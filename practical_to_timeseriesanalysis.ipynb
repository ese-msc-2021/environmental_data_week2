{
 "cells": [
  {
   "cell_type": "markdown",
   "metadata": {},
   "source": [
    "# Thinking temporally - practical and study questions"
   ]
  },
  {
   "cell_type": "markdown",
   "metadata": {},
   "source": [
    "# 1. Experiment with AR, MA\n",
    "\n",
    "Using the code in the Jupyter notebook for this lesson, experiment with that code and think about the results. \n",
    "\n",
    "- Take note of the patterns you see in the examples given in the notes for the AR and MA implementations. Now run the code in the notebook again. Would you expect the results to look similar when you re-run the code? In what way? What is similar, what is different?\n",
    "\n",
    "- In the case of AR(p), what happens if you change the starting positions of the time series, i.e change the values of AR1[0] and AR2[0], AR2[1]. How do these changes affect the properties of the time series generated?"
   ]
  },
  {
   "cell_type": "markdown",
   "metadata": {},
   "source": [
    "## 2. Fourier analysis\n",
    "\n",
    "Yesterday, we leaned how to download a climate record from a point over Imperial College London. Apply a fourier transform to this dataset (or another dataset you may have interest in that relates to your 'winery' project). Interpret the results. "
   ]
  },
  {
   "cell_type": "markdown",
   "metadata": {},
   "source": [
    "## Optional 1. Create some code to simulate a Markov Chain. \n",
    "Review the theory on Markov Chains then develop some code to simulate a Markov Chain. \n",
    "The following article [\"Markov Chains in python: beginner's tutorial\"](https://www.datacamp.com/community/tutorials/markov-chains-python-tutorial) will show you how!"
   ]
  },
  {
   "cell_type": "markdown",
   "metadata": {},
   "source": [
    "## Optional 2. Looking at real data\n",
    "Below is a little fuction to import some data about air pollution in London. You are hired by the Greater London Authority to analyze the roadside PM2.5 data. "
   ]
  },
  {
   "cell_type": "code",
   "execution_count": null,
   "metadata": {},
   "outputs": [],
   "source": [
    "# create a little function to import the test data (air pollution from the LondonDataStore)\n",
    "import pandas as pd\n",
    "def import_test_data():\n",
    "    raw_test_df=pd.read_excel(\"data/LondonDataStore/air-quality-london.xlsx\",sheet_name=\"Monthly averages\", header=1)\n",
    "    return raw_test_df\n",
    "\n",
    "# let's import these data as a data frame called pollution\n",
    "pollution = import_test_data() \n",
    "\n",
    "# have a quick look: \n",
    "pollution.head()"
   ]
  }
 ],
 "metadata": {
  "language_info": {
   "name": "python"
  },
  "orig_nbformat": 4
 },
 "nbformat": 4,
 "nbformat_minor": 2
}
